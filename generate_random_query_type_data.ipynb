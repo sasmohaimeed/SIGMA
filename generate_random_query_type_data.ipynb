{
  "nbformat": 4,
  "nbformat_minor": 0,
  "metadata": {
    "colab": {
      "provenance": []
    },
    "kernelspec": {
      "name": "python3",
      "display_name": "Python 3"
    },
    "language_info": {
      "name": "python"
    }
  },
  "cells": [
    {
      "cell_type": "code",
      "source": [
        "import json\n",
        "with open('/content/train.json') as o:\n",
        "        data = json.load(o)\n",
        "\n",
        "# \"query\", ['select','where'], \"weather\", [['date','zip_code'],['max_temperature_f']], [[],[]]\n",
        "\n",
        "index = 0\n",
        "newQueryList = []\n",
        "for e in data:\n",
        "  query = []\n",
        "  if len(e['python']['getFrom']['table_names']) == 1:\n",
        "    if not e['python']['intersect'] and not e['python']['union'] and not e['python']['except']:\n",
        "       query.append(\"query\")\n",
        "       query.append([\"select\"])\n",
        "       query.append(e['python']['getFrom']['table_names'][0])\n",
        "       aggindex = 0\n",
        "       for c in e['python']['getSelect']['column_list']:\n",
        "         if e['python']['getSelect']['aggregation_list'][aggindex] == \"\":\n",
        "           continueTrue = False\n",
        "           if aggindex == 0:\n",
        "             query.append([[c]])\n",
        "           else:\n",
        "             query[3][0].append(c)\n",
        "           aggindex = aggindex + 1\n",
        "         else:\n",
        "           continueTrue = True\n",
        "           continue\n",
        "       if continueTrue:\n",
        "         continue\n",
        "         aggindex = aggindex + 1\n",
        "       query.append([[]])\n",
        "\n",
        "       rejectOPS = ['LIKE','NOT LIKE','IN','NOT IN']\n",
        "       if e['python']['getWhere']['condition_list']:\n",
        "         if len(e['python']['getWhere']['condition_list']) == 1:\n",
        "           if e['python']['getWhere']['condition_list'][0][1] not in rejectOPS:\n",
        "            if not isinstance(e['python']['getWhere']['condition_list'][0][2], dict):\n",
        "              query[1].append('where')\n",
        "              query[3].append([])\n",
        "              query[3][1].append(e['python']['getWhere']['condition_list'][0][0])\n",
        "              query[4].append([])\n",
        "              query[4][1].append(e['python']['getWhere']['condition_list'][0][0])\n",
        "              query[4][1].append(e['python']['getWhere']['condition_list'][0][1])\n",
        "              query[4][1].append(e['python']['getWhere']['condition_list'][0][2])\n",
        "            else:\n",
        "              continue\n",
        "           else:\n",
        "             continue\n",
        "         elif len(e['python']['getWhere']['condition_list']) > 1:\n",
        "           continue\n",
        "\n",
        "       if e['python']['getOrderby']['column_list']:\n",
        "         if len(e['python']['getOrderby']['column_list']) == 1:\n",
        "           if e['python']['getOrderby']['limit'] == -1:\n",
        "                if e['python']['getWhere']['condition_list']:\n",
        "                  query[1].append('orderby')\n",
        "                  query[3].append([])\n",
        "                  query[3][2].append(e['python']['getOrderby']['column_list'][0])\n",
        "                  query[4].append([])\n",
        "                  query[4][2].append('order')\n",
        "                  query[4][2].append('=')              \n",
        "                  if e['python']['getOrderby']['ascending_list'][0] == False:\n",
        "                    query[4][2].append('desc')\n",
        "                  else:\n",
        "                    query[4][2].append('asc')\n",
        "                else:\n",
        "                  query[1].append('orderby')\n",
        "                  query[3].append([])\n",
        "                  query[3][1].append(e['python']['getOrderby']['column_list'][0])\n",
        "                  query[4].append([])\n",
        "                  query[4][1].append('order')\n",
        "                  query[4][1].append('=')              \n",
        "                  if e['python']['getOrderby']['ascending_list'][0] == False:\n",
        "                    query[4][1].append('desc')\n",
        "                  else:\n",
        "                    query[4][1].append('asc')\n",
        "           else:\n",
        "               continue\n",
        "\n",
        "\n",
        "         else:\n",
        "           continue\n",
        "\n",
        "\n",
        "\n",
        "\n",
        "# ['query', ['select'], 'department', [['Creation', 'Name', 'Budget_in_Billions']], [[]]]\n",
        "  if not e['python']['getGroupby']['column_list']:\n",
        "          if query != []:\n",
        "            index = index + 1\n",
        "            queryPython = {}\n",
        "            queryPython['db_id'] = e['db_id']\n",
        "            queryPython['question'] = e['question']\n",
        "            queryPython['function'] = query\n",
        "            print(index)\n",
        "            print(e['db_id'])\n",
        "            print(e['question'])\n",
        "            print(query)\n",
        "            newQueryList.append(queryPython)\n",
        "            print('**************')\n",
        "  \n",
        "\n",
        "  \n",
        "        \n",
        "\n",
        "\n"
      ],
      "metadata": {
        "id": "gOMhhvbEyldp"
      },
      "execution_count": null,
      "outputs": []
    },
    {
      "cell_type": "code",
      "source": [
        "for e in newQueryList:\n",
        "  print(e)"
      ],
      "metadata": {
        "id": "9DqjCLVS7HbC"
      },
      "execution_count": null,
      "outputs": []
    },
    {
      "cell_type": "code",
      "source": [
        "with open('query_examples.json', 'wt') as data:\n",
        "   json.dump(newQueryList, data, sort_keys=False, indent=4, separators=(',', ': '))"
      ],
      "metadata": {
        "id": "55mn4knhLaF2"
      },
      "execution_count": null,
      "outputs": []
    }
  ]
}